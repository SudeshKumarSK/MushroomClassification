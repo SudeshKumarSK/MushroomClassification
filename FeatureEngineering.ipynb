{
 "cells": [
  {
   "cell_type": "code",
   "execution_count": 18,
   "metadata": {},
   "outputs": [],
   "source": [
    "##############################################################################\n",
    "## EE559 Final Project ===> Mushroom Classification.\n",
    "## Created by Sudesh Kumar Santhosh Kumar and Thejesh Chandar Rao.\n",
    "## Date: 6th May, 2023\n",
    "## Tested in Python 3.10.9 using conda environment version 22.9.0.\n",
    "##############################################################################"
   ]
  },
  {
   "attachments": {},
   "cell_type": "markdown",
   "metadata": {},
   "source": [
    "# Final Project -> Classification of Mushrooms (EE - 559)"
   ]
  },
  {
   "attachments": {},
   "cell_type": "markdown",
   "metadata": {},
   "source": [
    "## Feature Engineering and Data Cleansing"
   ]
  },
  {
   "attachments": {},
   "cell_type": "markdown",
   "metadata": {},
   "source": [
    "# Importing all necessary libraries"
   ]
  },
  {
   "cell_type": "code",
   "execution_count": 1,
   "metadata": {},
   "outputs": [],
   "source": [
    "import pandas as pd\n",
    "import numpy as np\n",
    "import matplotlib.pyplot as plt\n",
    "import seaborn as sns\n",
    "\n",
    "from utils.Encoding import StatisticalEncoding"
   ]
  },
  {
   "attachments": {},
   "cell_type": "markdown",
   "metadata": {},
   "source": [
    "## Loading the dataset"
   ]
  },
  {
   "cell_type": "code",
   "execution_count": 2,
   "metadata": {},
   "outputs": [
    {
     "name": "stdout",
     "output_type": "stream",
     "text": [
      "Train Data -> 1: \n"
     ]
    },
    {
     "data": {
      "text/html": [
       "<div>\n",
       "<style scoped>\n",
       "    .dataframe tbody tr th:only-of-type {\n",
       "        vertical-align: middle;\n",
       "    }\n",
       "\n",
       "    .dataframe tbody tr th {\n",
       "        vertical-align: top;\n",
       "    }\n",
       "\n",
       "    .dataframe thead th {\n",
       "        text-align: right;\n",
       "    }\n",
       "</style>\n",
       "<table border=\"1\" class=\"dataframe\">\n",
       "  <thead>\n",
       "    <tr style=\"text-align: right;\">\n",
       "      <th></th>\n",
       "      <th>cap-diameter</th>\n",
       "      <th>cap-shape</th>\n",
       "      <th>cap-surface</th>\n",
       "      <th>cap-color</th>\n",
       "      <th>does-bruise-or-bleed</th>\n",
       "      <th>gill-attachment</th>\n",
       "      <th>gill-spacing</th>\n",
       "      <th>gill-color</th>\n",
       "      <th>stem-height</th>\n",
       "      <th>stem-width</th>\n",
       "      <th>stem-color</th>\n",
       "      <th>has-ring</th>\n",
       "      <th>ring-type</th>\n",
       "      <th>habitat</th>\n",
       "      <th>season</th>\n",
       "      <th>class</th>\n",
       "    </tr>\n",
       "  </thead>\n",
       "  <tbody>\n",
       "    <tr>\n",
       "      <th>0</th>\n",
       "      <td>4.98</td>\n",
       "      <td>c</td>\n",
       "      <td>i</td>\n",
       "      <td>y</td>\n",
       "      <td>f</td>\n",
       "      <td>a</td>\n",
       "      <td>c</td>\n",
       "      <td>n</td>\n",
       "      <td>6.04</td>\n",
       "      <td>6.21</td>\n",
       "      <td>w</td>\n",
       "      <td>f</td>\n",
       "      <td>f</td>\n",
       "      <td>d</td>\n",
       "      <td>a</td>\n",
       "      <td>p</td>\n",
       "    </tr>\n",
       "    <tr>\n",
       "      <th>1</th>\n",
       "      <td>2.84</td>\n",
       "      <td>x</td>\n",
       "      <td>y</td>\n",
       "      <td>y</td>\n",
       "      <td>f</td>\n",
       "      <td>a</td>\n",
       "      <td>c</td>\n",
       "      <td>w</td>\n",
       "      <td>5.66</td>\n",
       "      <td>3.55</td>\n",
       "      <td>y</td>\n",
       "      <td>t</td>\n",
       "      <td>r</td>\n",
       "      <td>h</td>\n",
       "      <td>u</td>\n",
       "      <td>p</td>\n",
       "    </tr>\n",
       "    <tr>\n",
       "      <th>2</th>\n",
       "      <td>11.44</td>\n",
       "      <td>x</td>\n",
       "      <td>y</td>\n",
       "      <td>y</td>\n",
       "      <td>f</td>\n",
       "      <td>a</td>\n",
       "      <td>c</td>\n",
       "      <td>w</td>\n",
       "      <td>7.03</td>\n",
       "      <td>25.29</td>\n",
       "      <td>n</td>\n",
       "      <td>t</td>\n",
       "      <td>e</td>\n",
       "      <td>d</td>\n",
       "      <td>w</td>\n",
       "      <td>e</td>\n",
       "    </tr>\n",
       "    <tr>\n",
       "      <th>3</th>\n",
       "      <td>8.77</td>\n",
       "      <td>s</td>\n",
       "      <td>t</td>\n",
       "      <td>r</td>\n",
       "      <td>t</td>\n",
       "      <td>d</td>\n",
       "      <td>c</td>\n",
       "      <td>g</td>\n",
       "      <td>4.44</td>\n",
       "      <td>13.61</td>\n",
       "      <td>r</td>\n",
       "      <td>f</td>\n",
       "      <td>f</td>\n",
       "      <td>d</td>\n",
       "      <td>a</td>\n",
       "      <td>p</td>\n",
       "    </tr>\n",
       "    <tr>\n",
       "      <th>4</th>\n",
       "      <td>7.55</td>\n",
       "      <td>x</td>\n",
       "      <td>d</td>\n",
       "      <td>n</td>\n",
       "      <td>t</td>\n",
       "      <td>p</td>\n",
       "      <td>c</td>\n",
       "      <td>y</td>\n",
       "      <td>8.41</td>\n",
       "      <td>18.44</td>\n",
       "      <td>y</td>\n",
       "      <td>f</td>\n",
       "      <td>f</td>\n",
       "      <td>d</td>\n",
       "      <td>a</td>\n",
       "      <td>e</td>\n",
       "    </tr>\n",
       "  </tbody>\n",
       "</table>\n",
       "</div>"
      ],
      "text/plain": [
       "   cap-diameter cap-shape cap-surface cap-color does-bruise-or-bleed  \\\n",
       "0          4.98         c           i         y                    f   \n",
       "1          2.84         x           y         y                    f   \n",
       "2         11.44         x           y         y                    f   \n",
       "3          8.77         s           t         r                    t   \n",
       "4          7.55         x           d         n                    t   \n",
       "\n",
       "  gill-attachment gill-spacing gill-color  stem-height  stem-width stem-color  \\\n",
       "0               a            c          n         6.04        6.21          w   \n",
       "1               a            c          w         5.66        3.55          y   \n",
       "2               a            c          w         7.03       25.29          n   \n",
       "3               d            c          g         4.44       13.61          r   \n",
       "4               p            c          y         8.41       18.44          y   \n",
       "\n",
       "  has-ring ring-type habitat season class  \n",
       "0        f         f       d      a     p  \n",
       "1        t         r       h      u     p  \n",
       "2        t         e       d      w     e  \n",
       "3        f         f       d      a     p  \n",
       "4        f         f       d      a     e  "
      ]
     },
     "execution_count": 2,
     "metadata": {},
     "output_type": "execute_result"
    }
   ],
   "source": [
    "train_data = pd.read_csv(\"./dataset/mushroom_train.csv\")\n",
    "print(\"Train Data -> 1: \")\n",
    "train_data.head()\n"
   ]
  },
  {
   "cell_type": "code",
   "execution_count": 3,
   "metadata": {},
   "outputs": [],
   "source": [
    "X_train = train_data.drop('class', axis=1)  # Select all the features except labels,\n",
    "y_train = train_data['class']  # Select only the 'class' column."
   ]
  },
  {
   "cell_type": "code",
   "execution_count": 4,
   "metadata": {},
   "outputs": [],
   "source": [
    "categoricalFeatures = [col for col in X_train.columns if X_train[col].dtype == \"object\"]\n",
    "numericalFeatures = [col for col in X_train.columns if X_train[col].dtype == \"float64\"]\n",
    "\n",
    "classes, class_index, class_count = np.unique(y_train, return_index=True, return_counts=True, axis=None)"
   ]
  },
  {
   "attachments": {},
   "cell_type": "markdown",
   "metadata": {},
   "source": [
    "## Initial Observations"
   ]
  },
  {
   "attachments": {},
   "cell_type": "markdown",
   "metadata": {},
   "source": [
    "### General Information about the Data"
   ]
  },
  {
   "cell_type": "code",
   "execution_count": 5,
   "metadata": {},
   "outputs": [
    {
     "name": "stdout",
     "output_type": "stream",
     "text": [
      "<class 'pandas.core.frame.DataFrame'>\n",
      "RangeIndex: 42748 entries, 0 to 42747\n",
      "Data columns (total 15 columns):\n",
      " #   Column                Non-Null Count  Dtype  \n",
      "---  ------                --------------  -----  \n",
      " 0   cap-diameter          42748 non-null  float64\n",
      " 1   cap-shape             42748 non-null  object \n",
      " 2   cap-surface           42748 non-null  object \n",
      " 3   cap-color             42748 non-null  object \n",
      " 4   does-bruise-or-bleed  42748 non-null  object \n",
      " 5   gill-attachment       42748 non-null  object \n",
      " 6   gill-spacing          42748 non-null  object \n",
      " 7   gill-color            42748 non-null  object \n",
      " 8   stem-height           42748 non-null  float64\n",
      " 9   stem-width            42748 non-null  float64\n",
      " 10  stem-color            42748 non-null  object \n",
      " 11  has-ring              42748 non-null  object \n",
      " 12  ring-type             42748 non-null  object \n",
      " 13  habitat               42748 non-null  object \n",
      " 14  season                42748 non-null  object \n",
      "dtypes: float64(3), object(12)\n",
      "memory usage: 4.9+ MB\n"
     ]
    }
   ],
   "source": [
    "X_train.info()"
   ]
  },
  {
   "cell_type": "code",
   "execution_count": 6,
   "metadata": {},
   "outputs": [
    {
     "name": "stdout",
     "output_type": "stream",
     "text": [
      "##### Initial Observations from the data ######\n",
      "--------------------------------------------------------------------------------------------------------------------------------------------------------------------------------------\n",
      "Shape of the Train Data: (42748, 16)\n",
      "Total number of Data-Points in the Train Data, N: 42748\n",
      "Total number of dimesions in the Train Data, D: 16\n",
      "\n",
      "Categorical Features: ['cap-shape', 'cap-surface', 'cap-color', 'does-bruise-or-bleed', 'gill-attachment', 'gill-spacing', 'gill-color', 'stem-color', 'has-ring', 'ring-type', 'habitat', 'season']\n",
      "Numerical Features: ['cap-diameter', 'stem-height', 'stem-width']\n",
      "Total number of Categorical Features: 12\n",
      "Total number of Numerical Features: 3\n",
      "\n",
      "Total number of classes in the Dataset, C: 2\n",
      "Output Labels in the Train Data, T: ['e' 'p']\n",
      "Total Number of data-points corressponding to each class: {'e': 19153, 'p': 23595}\n",
      "--------------------------------------------------------------------------------------------------------------------------------------------------------------------------------------\n"
     ]
    }
   ],
   "source": [
    "print(\"##### Initial Observations from the data ######\")\n",
    "print(\"--------------------------------------------------------------------------------------------------------------------------------------------------------------------------------------\")\n",
    "print(f\"Shape of the Train Data: {train_data.shape}\")\n",
    "print(f\"Total number of Data-Points in the Train Data, N: {train_data.shape[0]}\")\n",
    "print(f\"Total number of dimesions in the Train Data, D: {train_data.shape[1]}\")\n",
    "\n",
    "print()\n",
    "\n",
    "print(f\"Categorical Features: {categoricalFeatures}\")\n",
    "print(f\"Numerical Features: {numericalFeatures}\")\n",
    "print(f\"Total number of Categorical Features: {len(categoricalFeatures)}\")\n",
    "print(f\"Total number of Numerical Features: {len(numericalFeatures)}\")\n",
    "\n",
    "print()\n",
    "\n",
    "print(f\"Total number of classes in the Dataset, C: {len(classes)}\")\n",
    "print(f\"Output Labels in the Train Data, T: {classes}\")\n",
    "print(f\"Total Number of data-points corressponding to each class: { dict(zip(classes, class_count))}\")\n",
    "print(\"--------------------------------------------------------------------------------------------------------------------------------------------------------------------------------------\")"
   ]
  },
  {
   "cell_type": "code",
   "execution_count": 7,
   "metadata": {},
   "outputs": [
    {
     "data": {
      "image/png": "[encoded data removed]",
      "text/plain": [
       "<Figure size 800x800 with 1 Axes>"
      ]
     },
     "metadata": {},
     "output_type": "display_data"
    }
   ],
   "source": [
    "plt.figure(figsize=(8,8))\n",
    "sns.barplot(x=classes, y=class_count, alpha=0.8, palette=[\"#263A29\", \"#5F264A\"])\n",
    "plt.ylabel('Count', fontsize=12)\n",
    "plt.xlabel('Classes (e and p)', fontsize=12)\n",
    "plt.title(\"Number of edible (e) / poisonous(p) Mushrooms\")\n",
    "\n",
    "plt.show()"
   ]
  },
  {
   "attachments": {},
   "cell_type": "markdown",
   "metadata": {},
   "source": [
    "### Checking for null values in the input features.\n"
   ]
  },
  {
   "cell_type": "code",
   "execution_count": 8,
   "metadata": {},
   "outputs": [
    {
     "data": {
      "text/plain": [
       "cap-diameter            0\n",
       "cap-shape               0\n",
       "cap-surface             0\n",
       "cap-color               0\n",
       "does-bruise-or-bleed    0\n",
       "gill-attachment         0\n",
       "gill-spacing            0\n",
       "gill-color              0\n",
       "stem-height             0\n",
       "stem-width              0\n",
       "stem-color              0\n",
       "has-ring                0\n",
       "ring-type               0\n",
       "habitat                 0\n",
       "season                  0\n",
       "class                   0\n",
       "dtype: int64"
      ]
     },
     "execution_count": 8,
     "metadata": {},
     "output_type": "execute_result"
    }
   ],
   "source": [
    "train_data.isna().sum()"
   ]
  },
  {
   "attachments": {},
   "cell_type": "markdown",
   "metadata": {},
   "source": [
    "### Checking the number of unique values in every single input feature."
   ]
  },
  {
   "cell_type": "code",
   "execution_count": 9,
   "metadata": {},
   "outputs": [
    {
     "data": {
      "text/plain": [
       "cap-diameter            2390\n",
       "cap-shape                  7\n",
       "cap-surface               11\n",
       "cap-color                 12\n",
       "does-bruise-or-bleed       2\n",
       "gill-attachment            7\n",
       "gill-spacing               3\n",
       "gill-color                12\n",
       "stem-height             2079\n",
       "stem-width              4261\n",
       "stem-color                13\n",
       "has-ring                   2\n",
       "ring-type                  8\n",
       "habitat                    8\n",
       "season                     4\n",
       "class                      2\n",
       "dtype: int64"
      ]
     },
     "execution_count": 9,
     "metadata": {},
     "output_type": "execute_result"
    }
   ],
   "source": [
    "train_data.nunique(axis=0)\n"
   ]
  },
  {
   "attachments": {},
   "cell_type": "markdown",
   "metadata": {},
   "source": [
    "### Checking for duplicate rows in the input feature space."
   ]
  },
  {
   "cell_type": "code",
   "execution_count": 10,
   "metadata": {},
   "outputs": [
    {
     "data": {
      "text/html": [
       "<div>\n",
       "<style scoped>\n",
       "    .dataframe tbody tr th:only-of-type {\n",
       "        vertical-align: middle;\n",
       "    }\n",
       "\n",
       "    .dataframe tbody tr th {\n",
       "        vertical-align: top;\n",
       "    }\n",
       "\n",
       "    .dataframe thead th {\n",
       "        text-align: right;\n",
       "    }\n",
       "</style>\n",
       "<table border=\"1\" class=\"dataframe\">\n",
       "  <thead>\n",
       "    <tr style=\"text-align: right;\">\n",
       "      <th></th>\n",
       "      <th>cap-diameter</th>\n",
       "      <th>cap-shape</th>\n",
       "      <th>cap-surface</th>\n",
       "      <th>cap-color</th>\n",
       "      <th>does-bruise-or-bleed</th>\n",
       "      <th>gill-attachment</th>\n",
       "      <th>gill-spacing</th>\n",
       "      <th>gill-color</th>\n",
       "      <th>stem-height</th>\n",
       "      <th>stem-width</th>\n",
       "      <th>stem-color</th>\n",
       "      <th>has-ring</th>\n",
       "      <th>ring-type</th>\n",
       "      <th>habitat</th>\n",
       "      <th>season</th>\n",
       "      <th>class</th>\n",
       "    </tr>\n",
       "  </thead>\n",
       "  <tbody>\n",
       "    <tr>\n",
       "      <th>2586</th>\n",
       "      <td>3.23</td>\n",
       "      <td>o</td>\n",
       "      <td>l</td>\n",
       "      <td>g</td>\n",
       "      <td>f</td>\n",
       "      <td>f</td>\n",
       "      <td>f</td>\n",
       "      <td>f</td>\n",
       "      <td>0.0</td>\n",
       "      <td>0.0</td>\n",
       "      <td>f</td>\n",
       "      <td>f</td>\n",
       "      <td>f</td>\n",
       "      <td>d</td>\n",
       "      <td>u</td>\n",
       "      <td>p</td>\n",
       "    </tr>\n",
       "    <tr>\n",
       "      <th>6909</th>\n",
       "      <td>4.41</td>\n",
       "      <td>o</td>\n",
       "      <td>s</td>\n",
       "      <td>g</td>\n",
       "      <td>f</td>\n",
       "      <td>f</td>\n",
       "      <td>f</td>\n",
       "      <td>f</td>\n",
       "      <td>0.0</td>\n",
       "      <td>0.0</td>\n",
       "      <td>f</td>\n",
       "      <td>t</td>\n",
       "      <td>f</td>\n",
       "      <td>d</td>\n",
       "      <td>s</td>\n",
       "      <td>p</td>\n",
       "    </tr>\n",
       "    <tr>\n",
       "      <th>8004</th>\n",
       "      <td>2.88</td>\n",
       "      <td>o</td>\n",
       "      <td>l</td>\n",
       "      <td>g</td>\n",
       "      <td>f</td>\n",
       "      <td>f</td>\n",
       "      <td>f</td>\n",
       "      <td>f</td>\n",
       "      <td>0.0</td>\n",
       "      <td>0.0</td>\n",
       "      <td>f</td>\n",
       "      <td>f</td>\n",
       "      <td>f</td>\n",
       "      <td>d</td>\n",
       "      <td>s</td>\n",
       "      <td>p</td>\n",
       "    </tr>\n",
       "    <tr>\n",
       "      <th>11144</th>\n",
       "      <td>3.06</td>\n",
       "      <td>o</td>\n",
       "      <td>l</td>\n",
       "      <td>g</td>\n",
       "      <td>f</td>\n",
       "      <td>f</td>\n",
       "      <td>f</td>\n",
       "      <td>f</td>\n",
       "      <td>0.0</td>\n",
       "      <td>0.0</td>\n",
       "      <td>f</td>\n",
       "      <td>f</td>\n",
       "      <td>f</td>\n",
       "      <td>d</td>\n",
       "      <td>a</td>\n",
       "      <td>p</td>\n",
       "    </tr>\n",
       "    <tr>\n",
       "      <th>12012</th>\n",
       "      <td>2.93</td>\n",
       "      <td>o</td>\n",
       "      <td>l</td>\n",
       "      <td>g</td>\n",
       "      <td>f</td>\n",
       "      <td>f</td>\n",
       "      <td>f</td>\n",
       "      <td>f</td>\n",
       "      <td>0.0</td>\n",
       "      <td>0.0</td>\n",
       "      <td>f</td>\n",
       "      <td>f</td>\n",
       "      <td>f</td>\n",
       "      <td>d</td>\n",
       "      <td>a</td>\n",
       "      <td>p</td>\n",
       "    </tr>\n",
       "    <tr>\n",
       "      <th>...</th>\n",
       "      <td>...</td>\n",
       "      <td>...</td>\n",
       "      <td>...</td>\n",
       "      <td>...</td>\n",
       "      <td>...</td>\n",
       "      <td>...</td>\n",
       "      <td>...</td>\n",
       "      <td>...</td>\n",
       "      <td>...</td>\n",
       "      <td>...</td>\n",
       "      <td>...</td>\n",
       "      <td>...</td>\n",
       "      <td>...</td>\n",
       "      <td>...</td>\n",
       "      <td>...</td>\n",
       "      <td>...</td>\n",
       "    </tr>\n",
       "    <tr>\n",
       "      <th>41759</th>\n",
       "      <td>3.03</td>\n",
       "      <td>o</td>\n",
       "      <td>l</td>\n",
       "      <td>g</td>\n",
       "      <td>f</td>\n",
       "      <td>f</td>\n",
       "      <td>f</td>\n",
       "      <td>f</td>\n",
       "      <td>0.0</td>\n",
       "      <td>0.0</td>\n",
       "      <td>f</td>\n",
       "      <td>f</td>\n",
       "      <td>f</td>\n",
       "      <td>d</td>\n",
       "      <td>u</td>\n",
       "      <td>p</td>\n",
       "    </tr>\n",
       "    <tr>\n",
       "      <th>41835</th>\n",
       "      <td>4.59</td>\n",
       "      <td>o</td>\n",
       "      <td>s</td>\n",
       "      <td>w</td>\n",
       "      <td>f</td>\n",
       "      <td>a</td>\n",
       "      <td>c</td>\n",
       "      <td>w</td>\n",
       "      <td>0.0</td>\n",
       "      <td>0.0</td>\n",
       "      <td>f</td>\n",
       "      <td>f</td>\n",
       "      <td>f</td>\n",
       "      <td>d</td>\n",
       "      <td>u</td>\n",
       "      <td>p</td>\n",
       "    </tr>\n",
       "    <tr>\n",
       "      <th>41850</th>\n",
       "      <td>3.83</td>\n",
       "      <td>o</td>\n",
       "      <td>t</td>\n",
       "      <td>n</td>\n",
       "      <td>f</td>\n",
       "      <td>a</td>\n",
       "      <td>c</td>\n",
       "      <td>w</td>\n",
       "      <td>0.0</td>\n",
       "      <td>0.0</td>\n",
       "      <td>f</td>\n",
       "      <td>f</td>\n",
       "      <td>f</td>\n",
       "      <td>d</td>\n",
       "      <td>u</td>\n",
       "      <td>p</td>\n",
       "    </tr>\n",
       "    <tr>\n",
       "      <th>42323</th>\n",
       "      <td>3.91</td>\n",
       "      <td>o</td>\n",
       "      <td>s</td>\n",
       "      <td>w</td>\n",
       "      <td>f</td>\n",
       "      <td>a</td>\n",
       "      <td>c</td>\n",
       "      <td>w</td>\n",
       "      <td>0.0</td>\n",
       "      <td>0.0</td>\n",
       "      <td>f</td>\n",
       "      <td>f</td>\n",
       "      <td>f</td>\n",
       "      <td>d</td>\n",
       "      <td>a</td>\n",
       "      <td>p</td>\n",
       "    </tr>\n",
       "    <tr>\n",
       "      <th>42456</th>\n",
       "      <td>2.98</td>\n",
       "      <td>o</td>\n",
       "      <td>l</td>\n",
       "      <td>g</td>\n",
       "      <td>f</td>\n",
       "      <td>f</td>\n",
       "      <td>f</td>\n",
       "      <td>f</td>\n",
       "      <td>0.0</td>\n",
       "      <td>0.0</td>\n",
       "      <td>f</td>\n",
       "      <td>f</td>\n",
       "      <td>f</td>\n",
       "      <td>d</td>\n",
       "      <td>s</td>\n",
       "      <td>p</td>\n",
       "    </tr>\n",
       "  </tbody>\n",
       "</table>\n",
       "<p>88 rows × 16 columns</p>\n",
       "</div>"
      ],
      "text/plain": [
       "       cap-diameter cap-shape cap-surface cap-color does-bruise-or-bleed  \\\n",
       "2586           3.23         o           l         g                    f   \n",
       "6909           4.41         o           s         g                    f   \n",
       "8004           2.88         o           l         g                    f   \n",
       "11144          3.06         o           l         g                    f   \n",
       "12012          2.93         o           l         g                    f   \n",
       "...             ...       ...         ...       ...                  ...   \n",
       "41759          3.03         o           l         g                    f   \n",
       "41835          4.59         o           s         w                    f   \n",
       "41850          3.83         o           t         n                    f   \n",
       "42323          3.91         o           s         w                    f   \n",
       "42456          2.98         o           l         g                    f   \n",
       "\n",
       "      gill-attachment gill-spacing gill-color  stem-height  stem-width  \\\n",
       "2586                f            f          f          0.0         0.0   \n",
       "6909                f            f          f          0.0         0.0   \n",
       "8004                f            f          f          0.0         0.0   \n",
       "11144               f            f          f          0.0         0.0   \n",
       "12012               f            f          f          0.0         0.0   \n",
       "...               ...          ...        ...          ...         ...   \n",
       "41759               f            f          f          0.0         0.0   \n",
       "41835               a            c          w          0.0         0.0   \n",
       "41850               a            c          w          0.0         0.0   \n",
       "42323               a            c          w          0.0         0.0   \n",
       "42456               f            f          f          0.0         0.0   \n",
       "\n",
       "      stem-color has-ring ring-type habitat season class  \n",
       "2586           f        f         f       d      u     p  \n",
       "6909           f        t         f       d      s     p  \n",
       "8004           f        f         f       d      s     p  \n",
       "11144          f        f         f       d      a     p  \n",
       "12012          f        f         f       d      a     p  \n",
       "...          ...      ...       ...     ...    ...   ...  \n",
       "41759          f        f         f       d      u     p  \n",
       "41835          f        f         f       d      u     p  \n",
       "41850          f        f         f       d      u     p  \n",
       "42323          f        f         f       d      a     p  \n",
       "42456          f        f         f       d      s     p  \n",
       "\n",
       "[88 rows x 16 columns]"
      ]
     },
     "execution_count": 10,
     "metadata": {},
     "output_type": "execute_result"
    }
   ],
   "source": [
    "duplicate_rows = train_data.duplicated()\n",
    "train_data[duplicate_rows]\n"
   ]
  },
  {
   "attachments": {},
   "cell_type": "markdown",
   "metadata": {},
   "source": [
    "### Analysing the  Input Features which are Numerical."
   ]
  },
  {
   "cell_type": "code",
   "execution_count": 11,
   "metadata": {},
   "outputs": [
    {
     "data": {
      "text/html": [
       "<div>\n",
       "<style scoped>\n",
       "    .dataframe tbody tr th:only-of-type {\n",
       "        vertical-align: middle;\n",
       "    }\n",
       "\n",
       "    .dataframe tbody tr th {\n",
       "        vertical-align: top;\n",
       "    }\n",
       "\n",
       "    .dataframe thead th {\n",
       "        text-align: right;\n",
       "    }\n",
       "</style>\n",
       "<table border=\"1\" class=\"dataframe\">\n",
       "  <thead>\n",
       "    <tr style=\"text-align: right;\">\n",
       "      <th></th>\n",
       "      <th>cap-diameter</th>\n",
       "      <th>stem-height</th>\n",
       "      <th>stem-width</th>\n",
       "    </tr>\n",
       "  </thead>\n",
       "  <tbody>\n",
       "    <tr>\n",
       "      <th>count</th>\n",
       "      <td>42748.000000</td>\n",
       "      <td>42748.000000</td>\n",
       "      <td>42748.000000</td>\n",
       "    </tr>\n",
       "    <tr>\n",
       "      <th>mean</th>\n",
       "      <td>6.714149</td>\n",
       "      <td>6.583224</td>\n",
       "      <td>12.117692</td>\n",
       "    </tr>\n",
       "    <tr>\n",
       "      <th>std</th>\n",
       "      <td>5.220008</td>\n",
       "      <td>3.368333</td>\n",
       "      <td>10.004874</td>\n",
       "    </tr>\n",
       "    <tr>\n",
       "      <th>min</th>\n",
       "      <td>0.380000</td>\n",
       "      <td>0.000000</td>\n",
       "      <td>0.000000</td>\n",
       "    </tr>\n",
       "    <tr>\n",
       "      <th>25%</th>\n",
       "      <td>3.480000</td>\n",
       "      <td>4.640000</td>\n",
       "      <td>5.180000</td>\n",
       "    </tr>\n",
       "    <tr>\n",
       "      <th>50%</th>\n",
       "      <td>5.865000</td>\n",
       "      <td>5.960000</td>\n",
       "      <td>10.200000</td>\n",
       "    </tr>\n",
       "    <tr>\n",
       "      <th>75%</th>\n",
       "      <td>8.530000</td>\n",
       "      <td>7.750000</td>\n",
       "      <td>16.540000</td>\n",
       "    </tr>\n",
       "    <tr>\n",
       "      <th>max</th>\n",
       "      <td>62.340000</td>\n",
       "      <td>33.920000</td>\n",
       "      <td>103.910000</td>\n",
       "    </tr>\n",
       "  </tbody>\n",
       "</table>\n",
       "</div>"
      ],
      "text/plain": [
       "       cap-diameter   stem-height    stem-width\n",
       "count  42748.000000  42748.000000  42748.000000\n",
       "mean       6.714149      6.583224     12.117692\n",
       "std        5.220008      3.368333     10.004874\n",
       "min        0.380000      0.000000      0.000000\n",
       "25%        3.480000      4.640000      5.180000\n",
       "50%        5.865000      5.960000     10.200000\n",
       "75%        8.530000      7.750000     16.540000\n",
       "max       62.340000     33.920000    103.910000"
      ]
     },
     "execution_count": 11,
     "metadata": {},
     "output_type": "execute_result"
    }
   ],
   "source": [
    "train_data.describe()\n"
   ]
  },
  {
   "attachments": {},
   "cell_type": "markdown",
   "metadata": {},
   "source": [
    "### Plotting a sub-plot of Frequency of categories present in the Categorical Features."
   ]
  },
  {
   "cell_type": "code",
   "execution_count": 12,
   "metadata": {},
   "outputs": [
    {
     "data": {
      "image/png": "[encoded data removed]",
      "text/plain": [
       "<Figure size 1400x1200 with 12 Axes>"
      ]
     },
     "metadata": {},
     "output_type": "display_data"
    }
   ],
   "source": [
    "# Set up the grid of subplots\n",
    "nrows = 3\n",
    "ncols = 4\n",
    "fig, axs = plt.subplots(nrows=nrows, ncols=ncols, figsize=(14, 12))\n",
    "\n",
    "# Iterate over the categorical features and plot a countplot for each one\n",
    "for i, feature in enumerate(categoricalFeatures):\n",
    "    row_idx = i // ncols  # row index of the subplot in the grid\n",
    "    col_idx = i % ncols   # column index of the subplot in the grid\n",
    "    \n",
    "    freq_table = pd.crosstab(index=train_data[feature], columns=feature)\n",
    "    sns.countplot(data=train_data, x=feature, ax=axs[row_idx, col_idx])\n",
    "    axs[row_idx, col_idx].set_ylabel('Frequency')\n",
    "    axs[row_idx, col_idx].set_xlabel(f\"Class -> {feature}\")\n",
    "\n",
    "\n",
    "# Set the overall title of the figure\n",
    "fig.suptitle('Frequency of categories in the 12 Categorical Features')\n",
    "\n",
    "# Adjust the spacing between the subplots\n",
    "plt.subplots_adjust(wspace=0.5, hspace=0.4)\n",
    "\n",
    "plt.show()"
   ]
  },
  {
   "cell_type": "code",
   "execution_count": 13,
   "metadata": {},
   "outputs": [
    {
     "name": "stdout",
     "output_type": "stream",
     "text": [
      "No missing data was present in the Train Data!\n",
      "Total number of duplicate records in the Train Data: 88 records\n"
     ]
    }
   ],
   "source": [
    "print(\"No missing data was present in the Train Data!\")\n",
    "print(f\"Total number of duplicate records in the Train Data: {train_data.duplicated().sum()} records\")"
   ]
  },
  {
   "attachments": {},
   "cell_type": "markdown",
   "metadata": {},
   "source": [
    "## Data Cleaning"
   ]
  },
  {
   "attachments": {},
   "cell_type": "markdown",
   "metadata": {},
   "source": [
    "### Removing Duplicate records from the DataFrame"
   ]
  },
  {
   "cell_type": "code",
   "execution_count": 14,
   "metadata": {},
   "outputs": [
    {
     "name": "stdout",
     "output_type": "stream",
     "text": [
      "Shape of Training Data after Dropping Duplicate Rows: (42660, 16)\n",
      "Number of Data-Points before removing duplicate records: 42748 records\n",
      "Number of Data-Points after removing duplicate records: 42660 records\n"
     ]
    }
   ],
   "source": [
    "# Drop duplicate rows\n",
    "train_data = train_data.drop_duplicates()\n",
    "print(f\"Shape of Training Data after Dropping Duplicate Rows: {train_data.shape}\")\n",
    "print(f\"Number of Data-Points before removing duplicate records: {train_data.shape[0] + 88} records\")\n",
    "print(f\"Number of Data-Points after removing duplicate records: {train_data.shape[0]} records\")"
   ]
  },
  {
   "attachments": {},
   "cell_type": "markdown",
   "metadata": {},
   "source": [
    "## Encoding the Categorical Features using Statistical Methods [\"mean\", \"max\", \"min\", \"median\"]"
   ]
  },
  {
   "cell_type": "code",
   "execution_count": 17,
   "metadata": {},
   "outputs": [
    {
     "name": "stdout",
     "output_type": "stream",
     "text": [
      "Shape of Training Data after performing Statistical Encoding: (42660, 148)\n",
      "Number of Data-Points before performing Statistical Encoding: 42660\n",
      "Number of Data-Points after performing Statistical Encoding: 42660 records\n"
     ]
    }
   ],
   "source": [
    "new_train_data = StatisticalEncoding(dataFrame=train_data, categoricalFeatures=categoricalFeatures, numericalFeatures=numericalFeatures)\n",
    "print(f\"Shape of Training Data after performing Statistical Encoding: {new_train_data.shape}\")\n",
    "print(f\"Number of Data-Points before performing Statistical Encoding: {train_data.shape[0]} records\")\n",
    "print(f\"Number of Data-Points after performing Statistical Encoding: {new_train_data.shape[0]} records\")"
   ]
  },
  {
   "cell_type": "markdown",
   "metadata": {},
   "source": [
    "## "
   ]
  }
 ],
 "metadata": {
  "kernelspec": {
   "display_name": "ml",
   "language": "python",
   "name": "python3"
  },
  "language_info": {
   "codemirror_mode": {
    "name": "ipython",
    "version": 3
   },
   "file_extension": ".py",
   "mimetype": "text/x-python",
   "name": "python",
   "nbconvert_exporter": "python",
   "pygments_lexer": "ipython3",
   "version": "3.10.8"
  },
  "orig_nbformat": 4
 },
 "nbformat": 4,
 "nbformat_minor": 2
}
