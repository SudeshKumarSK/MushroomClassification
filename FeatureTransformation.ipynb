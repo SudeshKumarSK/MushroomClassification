{
 "cells": [
  {
   "cell_type": "code",
   "execution_count": 1,
   "metadata": {},
   "outputs": [],
   "source": [
    "##############################################################################\n",
    "## EE559 Final Project ===> Mushroom Classification.\n",
    "## Created by Sudesh Kumar Santhosh Kumar and Thejesh Chandar Rao.\n",
    "## Date: 6th May, 2023\n",
    "## Tested in Python 3.10.9 using conda environment version 22.9.0.\n",
    "##############################################################################"
   ]
  },
  {
   "attachments": {},
   "cell_type": "markdown",
   "metadata": {},
   "source": [
    "# Final Project -> Classification of Mushrooms (EE - 559)"
   ]
  },
  {
   "attachments": {},
   "cell_type": "markdown",
   "metadata": {},
   "source": [
    "## Feature Transformation."
   ]
  },
  {
   "attachments": {},
   "cell_type": "markdown",
   "metadata": {},
   "source": [
    "# Importing all necessary libraries"
   ]
  },
  {
   "cell_type": "code",
   "execution_count": 2,
   "metadata": {},
   "outputs": [],
   "source": [
    "import pandas as pd\n",
    "import numpy as np\n",
    "import matplotlib.pyplot as plt\n",
    "import seaborn as sns\n",
    "\n",
    "from utils.Transform import standardizeData\n",
    "from utils.Transform import transformTrainData_PCA\n",
    "from utils.Transform import transformTrainData_LDA"
   ]
  },
  {
   "attachments": {},
   "cell_type": "markdown",
   "metadata": {},
   "source": [
    "## Loading the all the datasets from FeatureSelected Directory which has the Linear Regression Technique based selected features.\n"
   ]
  },
  {
   "cell_type": "code",
   "execution_count": 5,
   "metadata": {},
   "outputs": [],
   "source": [
    "# contains 120 features\n",
    "train_data_linear_v1 = pd.read_csv(\"./dataset/FeatureSelected/LinearRegression/mushroom_train_v1.csv\")\n",
    "X_train_linear_v1 = train_data_linear_v1.drop('class', axis=1)  # Select all the features except labels,\n",
    "y_train_linear_v1 = train_data_linear_v1['class']  # Select only the 'class' column.\n",
    "\n",
    "# contains 96 features\n",
    "train_data_linear_v2 = pd.read_csv(\"./dataset/FeatureSelected/LinearRegression/mushroom_train_v2.csv\")\n",
    "X_train_linear_v2 = train_data_linear_v2.drop('class', axis=1)  # Select all the features except labels,\n",
    "y_train_linear_v2 = train_data_linear_v2['class']  # Select only the 'class' column.\n",
    "\n",
    "# contains 50  features\n",
    "train_data_linear_v3 = pd.read_csv(\"./dataset/FeatureSelected/LinearRegression/mushroom_train_v3.csv\")\n",
    "X_train_linear_v3 = train_data_linear_v3.drop('class', axis=1)  # Select all the features except labels,\n",
    "y_train_linear_v3 = train_data_linear_v3['class']  # Select only the 'class' column.\n"
   ]
  },
  {
   "attachments": {},
   "cell_type": "markdown",
   "metadata": {},
   "source": [
    "## Loading the all the datasets from FeatureSelected Directory which has the Pearson Co-efficient Technique based selected features."
   ]
  },
  {
   "cell_type": "code",
   "execution_count": 6,
   "metadata": {},
   "outputs": [],
   "source": [
    "# contains 109 features.\n",
    "train_data_pearson_v1 = pd.read_csv(\"./dataset/FeatureSelected/Pearson/mushroom_train_v1.csv\")\n",
    "X_train_pearson_v1 = train_data_pearson_v1.drop('class', axis=1)  # Select all the features except labels,\n",
    "y_train_pearson_v1 = train_data_pearson_v1['class']  # Select only the 'class' column.\n"
   ]
  },
  {
   "attachments": {},
   "cell_type": "markdown",
   "metadata": {},
   "source": [
    "## Perform Transformation of Selected Features to lower dimensions using LDA."
   ]
  },
  {
   "attachments": {},
   "cell_type": "markdown",
   "metadata": {},
   "source": [
    "### Standardizing the Input Features X_train_pearson_v1"
   ]
  },
  {
   "cell_type": "code",
   "execution_count": 7,
   "metadata": {},
   "outputs": [
    {
     "name": "stdout",
     "output_type": "stream",
     "text": [
      "Standardized the Train Data!\n"
     ]
    },
    {
     "data": {
      "text/plain": [
       "(42660, 109)"
      ]
     },
     "execution_count": 7,
     "metadata": {},
     "output_type": "execute_result"
    }
   ],
   "source": [
    "X_train_pearson_v1_std = standardizeData(X_train_pearson_v1)\n",
    "X_train_pearson_v1.shape"
   ]
  },
  {
   "cell_type": "code",
   "execution_count": 8,
   "metadata": {},
   "outputs": [
    {
     "data": {
      "text/plain": [
       "(42660, 2)"
      ]
     },
     "execution_count": 8,
     "metadata": {},
     "output_type": "execute_result"
    }
   ],
   "source": [
    "X_train_pearson_v1_PCA = transformTrainData_PCA(X_train_pearson_v1_std, components=2)\n",
    "X_train_pearson_v1_PCA.shape"
   ]
  },
  {
   "cell_type": "code",
   "execution_count": null,
   "metadata": {},
   "outputs": [],
   "source": []
  }
 ],
 "metadata": {
  "kernelspec": {
   "display_name": "ml",
   "language": "python",
   "name": "python3"
  },
  "language_info": {
   "codemirror_mode": {
    "name": "ipython",
    "version": 3
   },
   "file_extension": ".py",
   "mimetype": "text/x-python",
   "name": "python",
   "nbconvert_exporter": "python",
   "pygments_lexer": "ipython3",
   "version": "3.10.8"
  },
  "orig_nbformat": 4
 },
 "nbformat": 4,
 "nbformat_minor": 2
}
