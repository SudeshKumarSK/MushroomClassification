{
 "cells": [
  {
   "cell_type": "code",
   "execution_count": 1,
   "metadata": {},
   "outputs": [],
   "source": [
    "##############################################################################\n",
    "## EE559 Final Project ===> Mushroom Classification.\n",
    "## Created by Sudesh Kumar Santhosh Kumar and Thejesh Chandar Rao.\n",
    "## Date: 6th May, 2023\n",
    "## Tested in Python 3.10.9 using conda environment version 22.9.0.\n",
    "##############################################################################"
   ]
  },
  {
   "attachments": {},
   "cell_type": "markdown",
   "metadata": {},
   "source": [
    "# Final Project -> Classification of Mushrooms (EE - 559)"
   ]
  },
  {
   "attachments": {},
   "cell_type": "markdown",
   "metadata": {},
   "source": [
    "## Feature Transformation."
   ]
  },
  {
   "attachments": {},
   "cell_type": "markdown",
   "metadata": {},
   "source": [
    "# Importing all necessary libraries"
   ]
  },
  {
   "cell_type": "code",
   "execution_count": 2,
   "metadata": {},
   "outputs": [],
   "source": [
    "import pandas as pd\n",
    "import numpy as np\n",
    "import matplotlib.pyplot as plt\n",
    "import seaborn as sns\n",
    "\n",
    "from utils.Transform import standardizeData\n",
    "from utils.Transform import transformTrainData_PCA\n",
    "from utils.Transform import transformTrainData_LDA"
   ]
  },
  {
   "attachments": {},
   "cell_type": "markdown",
   "metadata": {},
   "source": [
    "## Loading the all the datasets from FeatureSelected Directory which has the Linear Regression Technique based selected features.\n"
   ]
  },
  {
   "cell_type": "code",
   "execution_count": 3,
   "metadata": {},
   "outputs": [],
   "source": [
    "# contains 120 features\n",
    "train_data_linear_v1 = pd.read_csv(\"./dataset/FeatureSelected/LinearRegression/mushroom_train_v1.csv\")\n",
    "X_train_linear_v1 = train_data_linear_v1.drop('class', axis=1)  # Select all the features except labels,\n",
    "\n",
    "\n",
    "# contains 96 features\n",
    "train_data_linear_v2 = pd.read_csv(\"./dataset/FeatureSelected/LinearRegression/mushroom_train_v2.csv\")\n",
    "X_train_linear_v2 = train_data_linear_v2.drop('class', axis=1)  # Select all the features except labels,\n",
    "\n",
    "\n",
    "# contains 50  features\n",
    "train_data_linear_v3 = pd.read_csv(\"./dataset/FeatureSelected/LinearRegression/mushroom_train_v3.csv\")\n",
    "X_train_linear_v3 = train_data_linear_v3.drop('class', axis=1)  # Select all the features except labels,\n",
    "\n"
   ]
  },
  {
   "attachments": {},
   "cell_type": "markdown",
   "metadata": {},
   "source": [
    "## Loading the all the datasets from FeatureSelected Directory which has the Pearson Co-efficient Technique based selected features."
   ]
  },
  {
   "cell_type": "code",
   "execution_count": 4,
   "metadata": {},
   "outputs": [],
   "source": [
    "# contains 109 features.\n",
    "train_data_pearson_v1 = pd.read_csv(\"./dataset/FeatureSelected/Pearson/mushroom_train_v1.csv\")\n",
    "X_train_pearson_v1 = train_data_pearson_v1.drop('class', axis=1)  # Select all the features except labels,\n",
    "\n",
    "y_train = train_data_linear_v1['class']  # Select only the 'class' column.\n"
   ]
  },
  {
   "attachments": {},
   "cell_type": "markdown",
   "metadata": {},
   "source": [
    "## Perform Transformation of Selected Features to lower dimensions using LDA."
   ]
  },
  {
   "attachments": {},
   "cell_type": "markdown",
   "metadata": {},
   "source": [
    "### Standardizing the Input Features."
   ]
  },
  {
   "cell_type": "code",
   "execution_count": 5,
   "metadata": {},
   "outputs": [
    {
     "name": "stdout",
     "output_type": "stream",
     "text": [
      "Standardized the Train Data!\n",
      "Standardized the Train Data!\n",
      "Standardized the Train Data!\n",
      "Standardized the Train Data!\n"
     ]
    }
   ],
   "source": [
    "X_train_pearson_v1_std = standardizeData(X_train_pearson_v1)\n",
    "\n",
    "X_train_linear_v1_std = standardizeData(X_train_linear_v1)\n",
    "X_train_linear_v2_std = standardizeData(X_train_linear_v2)\n",
    "X_train_linear_v3_std = standardizeData(X_train_linear_v3)\n"
   ]
  },
  {
   "attachments": {},
   "cell_type": "markdown",
   "metadata": {},
   "source": [
    "### Performing Principal Component Analysis and reducing the number of features before training the models."
   ]
  },
  {
   "cell_type": "code",
   "execution_count": 6,
   "metadata": {},
   "outputs": [],
   "source": [
    "# Setting the nnumber of features as 2.\n",
    "X_train_pearson_v1_PCA = transformTrainData_PCA(X_train_pearson_v1_std, components=2)\n",
    "X_train_linear_v1_PCA = transformTrainData_PCA(X_train_linear_v1_std, components=2)\n",
    "X_train_linear_v2_PCA = transformTrainData_PCA(X_train_linear_v2_std, components=2)\n",
    "X_train_linear_v3_PCA = transformTrainData_PCA(X_train_linear_v3_std, components=2)\n"
   ]
  },
  {
   "attachments": {},
   "cell_type": "markdown",
   "metadata": {},
   "source": [
    "## Converting the y_train Series and X_train numpy array to dataframe and generating a dataset."
   ]
  },
  {
   "cell_type": "code",
   "execution_count": null,
   "metadata": {},
   "outputs": [],
   "source": [
    "# Stack the classes column-wise next to the features\n",
    "train_data_pearson_v1_PCA = np.hstack((X_train_pearson_v1_PCA, y_train.values.reshape(-1, 1)))\n",
    "# Create a pandas DataFrame\n",
    "df = pd.DataFrame(train_data_pearson_v1_PCA, columns=['Feature 1', 'Feature 2', 'Class'])\n",
    "# Save the DataFrame to a CSV file\n",
    "df.to_csv(f\"./dataset/FeatureTransformed/PCA/mushroom_train_pearson_v1_PCA.csv\", index=False)"
   ]
  },
  {
   "cell_type": "code",
   "execution_count": null,
   "metadata": {},
   "outputs": [],
   "source": [
    "# Stack the classes column-wise next to the features\n",
    "train_data_linear_v1_PCA = np.hstack((X_train_linear_v1_PCA, y_train.values.reshape(-1, 1)))\n",
    "\n",
    "# Create a pandas DataFrame\n",
    "df = pd.DataFrame(train_data_linear_v1_PCA, columns=['Feature 1', 'Feature 2', 'Class'])\n",
    "\n",
    "# Save the DataFrame to a CSV file\n",
    "df.to_csv(f\"./dataset/FeatureTransformed/PCA/mushroom_train_linear_v1_PCA.csv\", index=False)"
   ]
  },
  {
   "cell_type": "code",
   "execution_count": null,
   "metadata": {},
   "outputs": [],
   "source": [
    "# Stack the classes column-wise next to the features\n",
    "train_data_linear_v2_PCA = np.hstack((X_train_linear_v2_PCA, y_train.values.reshape(-1, 1)))\n",
    "\n",
    "# Create a pandas DataFrame\n",
    "df = pd.DataFrame(train_data_linear_v2_PCA, columns=['Feature 1', 'Feature 2', 'Class'])\n",
    "\n",
    "# Save the DataFrame to a CSV file\n",
    "df.to_csv(f\"./dataset/FeatureTransformed/PCA/mushroom_train_linear_v2_PCA.csv\", index=False)"
   ]
  },
  {
   "cell_type": "code",
   "execution_count": null,
   "metadata": {},
   "outputs": [],
   "source": [
    "# Stack the classes column-wise next to the features\n",
    "train_data_linear_v3_PCA = np.hstack((X_train_linear_v3_PCA, y_train.values.reshape(-1, 1)))\n",
    "\n",
    "# Create a pandas DataFrame\n",
    "df = pd.DataFrame(train_data_linear_v3_PCA, columns=['Feature 1', 'Feature 2', 'Class'])\n",
    "\n",
    "# Save the DataFrame to a CSV file\n",
    "df.to_csv(f\"./dataset/FeatureTransformed/PCA/mushroom_train_linear_v3_PCA.csv\", index=False)"
   ]
  }
 ],
 "metadata": {
  "kernelspec": {
   "display_name": "ml",
   "language": "python",
   "name": "python3"
  },
  "language_info": {
   "codemirror_mode": {
    "name": "ipython",
    "version": 3
   },
   "file_extension": ".py",
   "mimetype": "text/x-python",
   "name": "python",
   "nbconvert_exporter": "python",
   "pygments_lexer": "ipython3",
   "version": "3.10.8"
  },
  "orig_nbformat": 4
 },
 "nbformat": 4,
 "nbformat_minor": 2
}
