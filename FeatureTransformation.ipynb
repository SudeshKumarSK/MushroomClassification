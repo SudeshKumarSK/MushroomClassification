{
 "cells": [
  {
   "cell_type": "code",
   "execution_count": 1,
   "metadata": {},
   "outputs": [],
   "source": [
    "##############################################################################\n",
    "## EE559 Final Project ===> Mushroom Classification.\n",
    "## Created by Sudesh Kumar Santhosh Kumar and Thejesh Chandar Rao.\n",
    "## Date: 6th May, 2023\n",
    "## Tested in Python 3.10.9 using conda environment version 22.9.0.\n",
    "##############################################################################"
   ]
  },
  {
   "attachments": {},
   "cell_type": "markdown",
   "metadata": {},
   "source": [
    "# Final Project -> Classification of Mushrooms (EE - 559)"
   ]
  },
  {
   "attachments": {},
   "cell_type": "markdown",
   "metadata": {},
   "source": [
    "## Feature Transformation."
   ]
  },
  {
   "attachments": {},
   "cell_type": "markdown",
   "metadata": {},
   "source": [
    "# Importing all necessary libraries"
   ]
  },
  {
   "cell_type": "code",
   "execution_count": 2,
   "metadata": {},
   "outputs": [],
   "source": [
    "import pandas as pd\n",
    "import numpy as np\n",
    "import matplotlib.pyplot as plt\n",
    "import seaborn as sns\n",
    "\n",
    "from utils.Transform import standardizeData\n",
    "from utils.Transform import transformTrainData_PCA\n",
    "from utils.Transform import transformTrainData_LDA, transformTrainData_IterLDA"
   ]
  },
  {
   "attachments": {},
   "cell_type": "markdown",
   "metadata": {},
   "source": [
    "## Loading the all the datasets from FeatureSelected Directory which has the Pearson Co-efficient Technique based selected features."
   ]
  },
  {
   "cell_type": "code",
   "execution_count": 3,
   "metadata": {},
   "outputs": [],
   "source": [
    "# contains 131 features.\n",
    "train_data_pearson_v1 = pd.read_csv(\"./dataset/FeatureSelected/Statistical/Pearson/mushroom_train_v1.csv\")\n",
    "X_train_pearson_v1 = train_data_pearson_v1.drop('class', axis=1)  # Select all the features except labels,\n",
    "\n",
    "y_train = train_data_pearson_v1['class']  # Select only the 'class' column.\n"
   ]
  },
  {
   "attachments": {},
   "cell_type": "markdown",
   "metadata": {},
   "source": [
    "## Perform Transformation of Selected Features to lower dimensions using LDA."
   ]
  },
  {
   "attachments": {},
   "cell_type": "markdown",
   "metadata": {},
   "source": [
    "### Standardizing the Input Features."
   ]
  },
  {
   "attachments": {},
   "cell_type": "markdown",
   "metadata": {},
   "source": [
    "### Performing Principal Component Analysis and reducing the number of features before training the models."
   ]
  },
  {
   "cell_type": "code",
   "execution_count": 4,
   "metadata": {},
   "outputs": [],
   "source": [
    "# Setting the number of features as 15.\n",
    "X_train_pearson_v1_PCA_15 = transformTrainData_PCA(X_train_pearson_v1, components=15)\n",
    "\n",
    "# Setting the number of features as 30.\n",
    "X_train_pearson_v1_PCA_30 = transformTrainData_PCA(X_train_pearson_v1, components=30)\n",
    "\n",
    "# Setting the number of features as 45.\n",
    "X_train_pearson_v1_PCA_45 = transformTrainData_PCA(X_train_pearson_v1, components=45)\n",
    "\n",
    "# Setting the number of features as 60.\n",
    "X_train_pearson_v1_PCA_60 = transformTrainData_PCA(X_train_pearson_v1, components=60)\n",
    "\n",
    "# Setting the number of features as 90.\n",
    "X_train_pearson_v1_PCA_90 = transformTrainData_PCA(X_train_pearson_v1, components=90)"
   ]
  },
  {
   "attachments": {},
   "cell_type": "markdown",
   "metadata": {},
   "source": [
    "## Converting the y_train Series and X_train numpy array to dataframe and generating a dataset for PCA."
   ]
  },
  {
   "cell_type": "code",
   "execution_count": 5,
   "metadata": {},
   "outputs": [],
   "source": [
    "# Stack the classes column-wise next to the features\n",
    "train_data_pearson_v1_PCA_15 = np.hstack((X_train_pearson_v1_PCA_15, y_train.values.reshape(-1, 1)))\n",
    "# Create a pandas DataFrame\n",
    "df = pd.DataFrame(train_data_pearson_v1_PCA_15, columns=['feature 1', 'feature 2', \"feature 3\", \"feature 4\", \"feature 5\", \"feature 6\", \"feature 7\", \"feature 8\", \"feature 9\", \"feature 10\", \"feature 11\", \"feature 12\", \"feature 13\", \"feature 14\", \"feature 15\", 'class'])\n",
    "# Save the DataFrame to a CSV file\n",
    "df.to_csv(f\"./dataset/FeatureTransformed/PCA/mushroom_train_pearson_v1_PCA_15.csv\", index=False)\n",
    "\n",
    "\n",
    "\n",
    "# Stack the classes column-wise next to the features\n",
    "train_data_pearson_v1_PCA_30 = np.hstack((X_train_pearson_v1_PCA_30, y_train.values.reshape(-1, 1)))\n",
    "# Create a pandas DataFrame\n",
    "df = pd.DataFrame(train_data_pearson_v1_PCA_30, columns=['feature 1', 'feature 2', \"feature 3\", \"feature 4\", \"feature 5\", \"feature 6\", \"feature 7\", \"feature 8\", \"feature 9\", \"feature 10\", \"feature 11\", \"feature 12\", \"feature 13\", \"feature 14\", \"feature 15\", 'feature 16', 'feature 17', \"feature 18\", \"feature 19\", \"feature 20\", \"feature 21\", \"feature 22\", \"feature 23\", \"feature 24\", \"feature 25\", \"feature 26\", \"feature 27\", \"feature 28\", \"feature 29\", \"feature 30\", 'class'])\n",
    "# Save the DataFrame to a CSV file\n",
    "df.to_csv(f\"./dataset/FeatureTransformed/PCA/mushroom_train_pearson_v1_PCA_30.csv\", index=False)\n",
    "\n",
    "\n",
    "# Stack the classes column-wise next to the features\n",
    "train_data_pearson_v1_PCA_45 = np.hstack((X_train_pearson_v1_PCA_45, y_train.values.reshape(-1, 1)))\n",
    "# Create a pandas DataFrame\n",
    "df = pd.DataFrame(train_data_pearson_v1_PCA_45, columns=['feature 1', 'feature 2', \"feature 3\", \"feature 4\", \"feature 5\", \"feature 6\", \"feature 7\", \"feature 8\", \"feature 9\", \"feature 10\", \"feature 11\", \"feature 12\", \"feature 13\", \"feature 14\", \"feature 15\", 'feature 16', 'feature 17', \"feature 18\", \"feature 19\", \"feature 20\", \"feature 21\", \"feature 22\", \"feature 23\", \"feature 24\", \"feature 25\", \"feature 26\", \"feature 27\", \"feature 28\", \"feature 29\", \"feature 30\", 'feature 31', 'feature 32', \"feature 33\", \"feature 34\", \"feature 35\", \"feature 36\", \"feature 37\", \"feature 38\", \"feature 39\", \"feature 40\", \"feature 41\", \"feature 42\", \"feature 43\", \"feature 44\", \"feature 45\",'class'])# Save the DataFrame to a CSV file\n",
    "df.to_csv(f\"./dataset/FeatureTransformed/PCA/mushroom_train_pearson_v1_PCA_45.csv\", index=False)\n",
    "\n",
    "\n",
    "n_features = 60  # replace with the actual number of features\n",
    "col_names = [f\"feature {i}\" for i in range(1, n_features + 1)]\n",
    "col_names.append('class')\n",
    "\n",
    "# Stack the classes column-wise next to the features\n",
    "train_data_pearson_v1_PCA_60 = np.hstack((X_train_pearson_v1_PCA_60, y_train.values.reshape(-1, 1)))\n",
    "\n",
    "# Create a pandas DataFrame\n",
    "df = pd.DataFrame(train_data_pearson_v1_PCA_60, columns=col_names)\n",
    "df.to_csv(f\"./dataset/FeatureTransformed/PCA/mushroom_train_pearson_v1_PCA_60.csv\", index=False)\n",
    "\n",
    "\n",
    "\n",
    "\n",
    "n_features = 90  # replace with the actual number of features\n",
    "col_names = [f\"feature {i}\" for i in range(1, n_features + 1)]\n",
    "col_names.append('class')\n",
    "\n",
    "# Stack the classes column-wise next to the features\n",
    "train_data_pearson_v1_PCA_90 = np.hstack((X_train_pearson_v1_PCA_90, y_train.values.reshape(-1, 1)))\n",
    "\n",
    "# Create a pandas DataFrame\n",
    "df = pd.DataFrame(train_data_pearson_v1_PCA_90, columns=col_names)\n",
    "df.to_csv(f\"./dataset/FeatureTransformed/PCA/mushroom_train_pearson_v1_PCA_90.csv\", index=False)"
   ]
  },
  {
   "attachments": {},
   "cell_type": "markdown",
   "metadata": {},
   "source": [
    "### Performing Linear Discriminant Analysis and reducing the number of features before training the models."
   ]
  },
  {
   "cell_type": "code",
   "execution_count": 6,
   "metadata": {},
   "outputs": [],
   "source": [
    "X_train_pearson_v1_LDA = transformTrainData_LDA(X_train_pearson_v1, y_train)\n",
    "\n",
    "# Stack the classes column-wise next to the features\n",
    "train_data_pearson_v1_LDA = np.hstack((X_train_pearson_v1_LDA, y_train.values.reshape(-1, 1)))\n",
    "\n",
    "# Create a pandas DataFrame\n",
    "df = pd.DataFrame(train_data_pearson_v1_LDA, columns=['feature 1', 'class'])\n",
    "\n",
    "# Save the DataFrame to a CSV file\n",
    "df.to_csv(f\"./dataset/FeatureTransformed/LDA/mushroom_train_pearson_v1_LDA.csv\", index=False)"
   ]
  }
 ],
 "metadata": {
  "kernelspec": {
   "display_name": "ml",
   "language": "python",
   "name": "python3"
  },
  "language_info": {
   "codemirror_mode": {
    "name": "ipython",
    "version": 3
   },
   "file_extension": ".py",
   "mimetype": "text/x-python",
   "name": "python",
   "nbconvert_exporter": "python",
   "pygments_lexer": "ipython3",
   "version": "3.10.8"
  },
  "orig_nbformat": 4
 },
 "nbformat": 4,
 "nbformat_minor": 2
}
