{
 "cells": [
  {
   "cell_type": "code",
   "execution_count": 1,
   "metadata": {},
   "outputs": [],
   "source": [
    "##############################################################################\n",
    "## EE559 Final Project ===> Mushroom Classification.\n",
    "## Created by Sudesh Kumar Santhosh Kumar and Thejesh Chandar Rao.\n",
    "## Date: 7th May, 2023\n",
    "## Tested in Python 3.10.9 using conda environment version 22.9.0.\n",
    "##############################################################################"
   ]
  },
  {
   "attachments": {},
   "cell_type": "markdown",
   "metadata": {},
   "source": [
    "# Final Project -> Classification of Mushrooms (EE - 559)"
   ]
  },
  {
   "attachments": {},
   "cell_type": "markdown",
   "metadata": {},
   "source": [
    "## TRAINING MACHINE LEARNING MODELS"
   ]
  },
  {
   "attachments": {},
   "cell_type": "markdown",
   "metadata": {},
   "source": [
    "# Importing all necessary libraries"
   ]
  },
  {
   "cell_type": "code",
   "execution_count": 2,
   "metadata": {},
   "outputs": [],
   "source": [
    "import pandas as pd\n",
    "import numpy as np\n",
    "import matplotlib.pyplot as plt\n",
    "import seaborn as sns\n",
    "import pickle\n",
    "\n",
    "from utils.models import Model\n",
    "from utils.Encoding import StatisticalEncoding, OneHotEncoding\n",
    "\n",
    "from utils.Transform import standardizeData\n",
    "from utils.Transform import transformTrainData_PCA\n",
    "\n",
    "## Defining the model path.\n",
    "models_path = \"../models/\"\n",
    "\n",
    "## Defining the results dict.\n",
    "results = {\n",
    "    \"acc\" : {\n",
    "\n",
    "    },\n",
    "\n",
    "    \"cer\" : {\n",
    "        \n",
    "    }\n",
    "\n",
    "}"
   ]
  },
  {
   "attachments": {},
   "cell_type": "markdown",
   "metadata": {},
   "source": [
    "## Loading the best dataset which is found to be generated using PCA to transform the most correlated features (130) to 60 features which got better results during Model Selection."
   ]
  },
  {
   "cell_type": "code",
   "execution_count": 3,
   "metadata": {},
   "outputs": [],
   "source": [
    "train_data = pd.read_csv(\"./dataset/Train/mushroom_train_final.csv\")\n"
   ]
  },
  {
   "cell_type": "code",
   "execution_count": 4,
   "metadata": {},
   "outputs": [
    {
     "data": {
      "text/html": [
       "<div>\n",
       "<style scoped>\n",
       "    .dataframe tbody tr th:only-of-type {\n",
       "        vertical-align: middle;\n",
       "    }\n",
       "\n",
       "    .dataframe tbody tr th {\n",
       "        vertical-align: top;\n",
       "    }\n",
       "\n",
       "    .dataframe thead th {\n",
       "        text-align: right;\n",
       "    }\n",
       "</style>\n",
       "<table border=\"1\" class=\"dataframe\">\n",
       "  <thead>\n",
       "    <tr style=\"text-align: right;\">\n",
       "      <th></th>\n",
       "      <th>feature 1</th>\n",
       "      <th>feature 2</th>\n",
       "      <th>feature 3</th>\n",
       "      <th>feature 4</th>\n",
       "      <th>feature 5</th>\n",
       "      <th>feature 6</th>\n",
       "      <th>feature 7</th>\n",
       "      <th>feature 8</th>\n",
       "      <th>feature 9</th>\n",
       "      <th>feature 10</th>\n",
       "      <th>...</th>\n",
       "      <th>feature 52</th>\n",
       "      <th>feature 53</th>\n",
       "      <th>feature 54</th>\n",
       "      <th>feature 55</th>\n",
       "      <th>feature 56</th>\n",
       "      <th>feature 57</th>\n",
       "      <th>feature 58</th>\n",
       "      <th>feature 59</th>\n",
       "      <th>feature 60</th>\n",
       "      <th>class</th>\n",
       "    </tr>\n",
       "  </thead>\n",
       "  <tbody>\n",
       "    <tr>\n",
       "      <th>0</th>\n",
       "      <td>-2.044244</td>\n",
       "      <td>-1.075445</td>\n",
       "      <td>-2.996931</td>\n",
       "      <td>-1.327966</td>\n",
       "      <td>-1.915506</td>\n",
       "      <td>1.712827</td>\n",
       "      <td>-1.914133</td>\n",
       "      <td>-2.025665</td>\n",
       "      <td>-0.033132</td>\n",
       "      <td>-0.732019</td>\n",
       "      <td>...</td>\n",
       "      <td>-0.209448</td>\n",
       "      <td>-0.136648</td>\n",
       "      <td>-0.176574</td>\n",
       "      <td>0.009994</td>\n",
       "      <td>0.612039</td>\n",
       "      <td>-0.316286</td>\n",
       "      <td>-0.421195</td>\n",
       "      <td>0.074456</td>\n",
       "      <td>0.296745</td>\n",
       "      <td>1.0</td>\n",
       "    </tr>\n",
       "    <tr>\n",
       "      <th>1</th>\n",
       "      <td>5.083060</td>\n",
       "      <td>-5.806476</td>\n",
       "      <td>0.618635</td>\n",
       "      <td>-2.898718</td>\n",
       "      <td>-0.206868</td>\n",
       "      <td>-2.450926</td>\n",
       "      <td>4.243412</td>\n",
       "      <td>-0.068073</td>\n",
       "      <td>1.028012</td>\n",
       "      <td>-1.690258</td>\n",
       "      <td>...</td>\n",
       "      <td>0.111929</td>\n",
       "      <td>0.099122</td>\n",
       "      <td>-0.343758</td>\n",
       "      <td>-0.082370</td>\n",
       "      <td>0.468800</td>\n",
       "      <td>-0.062343</td>\n",
       "      <td>0.542883</td>\n",
       "      <td>0.355637</td>\n",
       "      <td>-0.139385</td>\n",
       "      <td>1.0</td>\n",
       "    </tr>\n",
       "    <tr>\n",
       "      <th>2</th>\n",
       "      <td>4.992989</td>\n",
       "      <td>-4.590646</td>\n",
       "      <td>2.178452</td>\n",
       "      <td>1.408402</td>\n",
       "      <td>-2.567983</td>\n",
       "      <td>1.140362</td>\n",
       "      <td>-1.632072</td>\n",
       "      <td>1.846520</td>\n",
       "      <td>4.827835</td>\n",
       "      <td>-0.966505</td>\n",
       "      <td>...</td>\n",
       "      <td>0.181650</td>\n",
       "      <td>-0.110957</td>\n",
       "      <td>-0.008778</td>\n",
       "      <td>0.055724</td>\n",
       "      <td>0.051953</td>\n",
       "      <td>-0.111583</td>\n",
       "      <td>0.015937</td>\n",
       "      <td>-0.018558</td>\n",
       "      <td>-0.045008</td>\n",
       "      <td>0.0</td>\n",
       "    </tr>\n",
       "    <tr>\n",
       "      <th>3</th>\n",
       "      <td>-0.664443</td>\n",
       "      <td>7.782707</td>\n",
       "      <td>1.175030</td>\n",
       "      <td>-5.433635</td>\n",
       "      <td>-2.679231</td>\n",
       "      <td>1.323999</td>\n",
       "      <td>0.099112</td>\n",
       "      <td>-0.280119</td>\n",
       "      <td>-0.702643</td>\n",
       "      <td>1.433643</td>\n",
       "      <td>...</td>\n",
       "      <td>0.566764</td>\n",
       "      <td>0.116995</td>\n",
       "      <td>0.839153</td>\n",
       "      <td>0.333643</td>\n",
       "      <td>0.185900</td>\n",
       "      <td>0.148845</td>\n",
       "      <td>-0.095078</td>\n",
       "      <td>0.271230</td>\n",
       "      <td>0.190818</td>\n",
       "      <td>1.0</td>\n",
       "    </tr>\n",
       "    <tr>\n",
       "      <th>4</th>\n",
       "      <td>1.893219</td>\n",
       "      <td>9.762260</td>\n",
       "      <td>0.935071</td>\n",
       "      <td>2.232627</td>\n",
       "      <td>1.676629</td>\n",
       "      <td>-2.394506</td>\n",
       "      <td>0.775407</td>\n",
       "      <td>-2.175666</td>\n",
       "      <td>-1.397459</td>\n",
       "      <td>-0.874789</td>\n",
       "      <td>...</td>\n",
       "      <td>-0.231412</td>\n",
       "      <td>0.024973</td>\n",
       "      <td>-0.217571</td>\n",
       "      <td>-0.039586</td>\n",
       "      <td>-0.119344</td>\n",
       "      <td>0.114267</td>\n",
       "      <td>-0.009614</td>\n",
       "      <td>0.126086</td>\n",
       "      <td>0.052722</td>\n",
       "      <td>0.0</td>\n",
       "    </tr>\n",
       "  </tbody>\n",
       "</table>\n",
       "<p>5 rows × 61 columns</p>\n",
       "</div>"
      ],
      "text/plain": [
       "   feature 1  feature 2  feature 3  feature 4  feature 5  feature 6  \\\n",
       "0  -2.044244  -1.075445  -2.996931  -1.327966  -1.915506   1.712827   \n",
       "1   5.083060  -5.806476   0.618635  -2.898718  -0.206868  -2.450926   \n",
       "2   4.992989  -4.590646   2.178452   1.408402  -2.567983   1.140362   \n",
       "3  -0.664443   7.782707   1.175030  -5.433635  -2.679231   1.323999   \n",
       "4   1.893219   9.762260   0.935071   2.232627   1.676629  -2.394506   \n",
       "\n",
       "   feature 7  feature 8  feature 9  feature 10  ...  feature 52  feature 53  \\\n",
       "0  -1.914133  -2.025665  -0.033132   -0.732019  ...   -0.209448   -0.136648   \n",
       "1   4.243412  -0.068073   1.028012   -1.690258  ...    0.111929    0.099122   \n",
       "2  -1.632072   1.846520   4.827835   -0.966505  ...    0.181650   -0.110957   \n",
       "3   0.099112  -0.280119  -0.702643    1.433643  ...    0.566764    0.116995   \n",
       "4   0.775407  -2.175666  -1.397459   -0.874789  ...   -0.231412    0.024973   \n",
       "\n",
       "   feature 54  feature 55  feature 56  feature 57  feature 58  feature 59  \\\n",
       "0   -0.176574    0.009994    0.612039   -0.316286   -0.421195    0.074456   \n",
       "1   -0.343758   -0.082370    0.468800   -0.062343    0.542883    0.355637   \n",
       "2   -0.008778    0.055724    0.051953   -0.111583    0.015937   -0.018558   \n",
       "3    0.839153    0.333643    0.185900    0.148845   -0.095078    0.271230   \n",
       "4   -0.217571   -0.039586   -0.119344    0.114267   -0.009614    0.126086   \n",
       "\n",
       "   feature 60  class  \n",
       "0    0.296745    1.0  \n",
       "1   -0.139385    1.0  \n",
       "2   -0.045008    0.0  \n",
       "3    0.190818    1.0  \n",
       "4    0.052722    0.0  \n",
       "\n",
       "[5 rows x 61 columns]"
      ]
     },
     "execution_count": 4,
     "metadata": {},
     "output_type": "execute_result"
    }
   ],
   "source": [
    "train_data.head()"
   ]
  },
  {
   "attachments": {},
   "cell_type": "markdown",
   "metadata": {},
   "source": [
    "## Separating Input Features and class labels from the dataset. Also Encoding the class labels from \"p\" -> 1 and \"e\" -> 0"
   ]
  },
  {
   "cell_type": "code",
   "execution_count": 5,
   "metadata": {},
   "outputs": [],
   "source": [
    "## The below X_train is already Standardized and Shuffled.\n",
    "\n",
    "# Select all the features except labels,\n",
    "X_train = train_data.drop('class', axis=1) \n",
    "\n",
    "# Select only the 'class' column.\n",
    "y_train = train_data['class']  "
   ]
  },
  {
   "attachments": {},
   "cell_type": "markdown",
   "metadata": {},
   "source": [
    "## Converting the Dataframe to numpy array to train the ML Models."
   ]
  },
  {
   "cell_type": "code",
   "execution_count": 6,
   "metadata": {},
   "outputs": [],
   "source": [
    "X_train_np = X_train.to_numpy() \n",
    "y_train_np = y_train.to_numpy()"
   ]
  },
  {
   "attachments": {},
   "cell_type": "markdown",
   "metadata": {},
   "source": [
    "## Generating the Final Test Dataset by following all the pre-processing, feature selection and feature transformation steps we followed for the training set."
   ]
  },
  {
   "attachments": {},
   "cell_type": "markdown",
   "metadata": {},
   "source": [
    "### Loading the Raw Test Data with Categorical Features and Duplicates."
   ]
  },
  {
   "cell_type": "code",
   "execution_count": 7,
   "metadata": {},
   "outputs": [],
   "source": [
    "test_data_raw = pd.read_csv(\"./dataset/mushroom_test.csv\")\n",
    "\n",
    "# Select all the features except labels.\n",
    "X_test_raw = test_data_raw.drop('class', axis=1)\n",
    "\n",
    "# Select only the 'class' column.\n",
    "y_test_raw = test_data_raw['class']  "
   ]
  },
  {
   "attachments": {},
   "cell_type": "markdown",
   "metadata": {},
   "source": [
    "### Performing Statistical Encoding to convert the Categorical to Numerical Features."
   ]
  },
  {
   "cell_type": "code",
   "execution_count": 8,
   "metadata": {},
   "outputs": [],
   "source": [
    "categoricalFeatures = [col for col in X_test_raw.columns if X_test_raw[col].dtype == \"object\"]\n",
    "numericalFeatures = [col for col in X_test_raw.columns if X_test_raw[col].dtype == \"float64\"]\n",
    "classes, class_index, class_count = np.unique(y_test_raw, return_index=True, return_counts=True, axis=None)\n",
    "\n",
    "\n",
    "test_data_enc = StatisticalEncoding(dataFrame=test_data_raw, categoricalFeatures=categoricalFeatures, numericalFeatures=numericalFeatures)\n",
    "X_test_enc = test_data_enc.drop('class', axis=1)  # Select all the features except labels,"
   ]
  },
  {
   "attachments": {},
   "cell_type": "markdown",
   "metadata": {},
   "source": [
    "### Checking the Test Dataset for Categorical Features"
   ]
  },
  {
   "cell_type": "code",
   "execution_count": 9,
   "metadata": {},
   "outputs": [],
   "source": [
    "categoricalFeatures = [col for col in X_test_enc.columns if X_test_enc[col].dtype == \"object\"]\n",
    "numericalFeatures = [col for col in X_test_enc.columns if X_test_enc[col].dtype == \"float64\"]"
   ]
  },
  {
   "cell_type": "code",
   "execution_count": 10,
   "metadata": {},
   "outputs": [
    {
     "name": "stdout",
     "output_type": "stream",
     "text": [
      "Categorical Features: []\n",
      "Numerical Features: ['cap-diameter', 'stem-height', 'stem-width', 'cap-shape_cap-diameter_mean', 'cap-shape_cap-diameter_min', 'cap-shape_cap-diameter_max', 'cap-shape_cap-diameter_median', 'cap-shape_stem-height_mean', 'cap-shape_stem-height_min', 'cap-shape_stem-height_max', 'cap-shape_stem-height_median', 'cap-shape_stem-width_mean', 'cap-shape_stem-width_min', 'cap-shape_stem-width_max', 'cap-shape_stem-width_median', 'cap-surface_cap-diameter_mean', 'cap-surface_cap-diameter_min', 'cap-surface_cap-diameter_max', 'cap-surface_cap-diameter_median', 'cap-surface_stem-height_mean', 'cap-surface_stem-height_min', 'cap-surface_stem-height_max', 'cap-surface_stem-height_median', 'cap-surface_stem-width_mean', 'cap-surface_stem-width_min', 'cap-surface_stem-width_max', 'cap-surface_stem-width_median', 'cap-color_cap-diameter_mean', 'cap-color_cap-diameter_min', 'cap-color_cap-diameter_max', 'cap-color_cap-diameter_median', 'cap-color_stem-height_mean', 'cap-color_stem-height_min', 'cap-color_stem-height_max', 'cap-color_stem-height_median', 'cap-color_stem-width_mean', 'cap-color_stem-width_min', 'cap-color_stem-width_max', 'cap-color_stem-width_median', 'does-bruise-or-bleed_cap-diameter_mean', 'does-bruise-or-bleed_cap-diameter_min', 'does-bruise-or-bleed_cap-diameter_max', 'does-bruise-or-bleed_cap-diameter_median', 'does-bruise-or-bleed_stem-height_mean', 'does-bruise-or-bleed_stem-height_min', 'does-bruise-or-bleed_stem-height_max', 'does-bruise-or-bleed_stem-height_median', 'does-bruise-or-bleed_stem-width_mean', 'does-bruise-or-bleed_stem-width_min', 'does-bruise-or-bleed_stem-width_max', 'does-bruise-or-bleed_stem-width_median', 'gill-attachment_cap-diameter_mean', 'gill-attachment_cap-diameter_min', 'gill-attachment_cap-diameter_max', 'gill-attachment_cap-diameter_median', 'gill-attachment_stem-height_mean', 'gill-attachment_stem-height_min', 'gill-attachment_stem-height_max', 'gill-attachment_stem-height_median', 'gill-attachment_stem-width_mean', 'gill-attachment_stem-width_min', 'gill-attachment_stem-width_max', 'gill-attachment_stem-width_median', 'gill-spacing_cap-diameter_mean', 'gill-spacing_cap-diameter_min', 'gill-spacing_cap-diameter_max', 'gill-spacing_cap-diameter_median', 'gill-spacing_stem-height_mean', 'gill-spacing_stem-height_min', 'gill-spacing_stem-height_max', 'gill-spacing_stem-height_median', 'gill-spacing_stem-width_mean', 'gill-spacing_stem-width_min', 'gill-spacing_stem-width_max', 'gill-spacing_stem-width_median', 'gill-color_cap-diameter_mean', 'gill-color_cap-diameter_min', 'gill-color_cap-diameter_max', 'gill-color_cap-diameter_median', 'gill-color_stem-height_mean', 'gill-color_stem-height_min', 'gill-color_stem-height_max', 'gill-color_stem-height_median', 'gill-color_stem-width_mean', 'gill-color_stem-width_min', 'gill-color_stem-width_max', 'gill-color_stem-width_median', 'stem-color_cap-diameter_mean', 'stem-color_cap-diameter_min', 'stem-color_cap-diameter_max', 'stem-color_cap-diameter_median', 'stem-color_stem-height_mean', 'stem-color_stem-height_min', 'stem-color_stem-height_max', 'stem-color_stem-height_median', 'stem-color_stem-width_mean', 'stem-color_stem-width_min', 'stem-color_stem-width_max', 'stem-color_stem-width_median', 'has-ring_cap-diameter_mean', 'has-ring_cap-diameter_min', 'has-ring_cap-diameter_max', 'has-ring_cap-diameter_median', 'has-ring_stem-height_mean', 'has-ring_stem-height_min', 'has-ring_stem-height_max', 'has-ring_stem-height_median', 'has-ring_stem-width_mean', 'has-ring_stem-width_min', 'has-ring_stem-width_max', 'has-ring_stem-width_median', 'ring-type_cap-diameter_mean', 'ring-type_cap-diameter_min', 'ring-type_cap-diameter_max', 'ring-type_cap-diameter_median', 'ring-type_stem-height_mean', 'ring-type_stem-height_min', 'ring-type_stem-height_max', 'ring-type_stem-height_median', 'ring-type_stem-width_mean', 'ring-type_stem-width_min', 'ring-type_stem-width_max', 'ring-type_stem-width_median', 'habitat_cap-diameter_mean', 'habitat_cap-diameter_min', 'habitat_cap-diameter_max', 'habitat_cap-diameter_median', 'habitat_stem-height_mean', 'habitat_stem-height_min', 'habitat_stem-height_max', 'habitat_stem-height_median', 'habitat_stem-width_mean', 'habitat_stem-width_min', 'habitat_stem-width_max', 'habitat_stem-width_median', 'season_cap-diameter_mean', 'season_cap-diameter_min', 'season_cap-diameter_max', 'season_cap-diameter_median', 'season_stem-height_mean', 'season_stem-height_min', 'season_stem-height_max', 'season_stem-height_median', 'season_stem-width_mean', 'season_stem-width_min', 'season_stem-width_max', 'season_stem-width_median']\n",
      "Total number of Categorical Features: 0\n",
      "Total number of Numerical Features: 147\n"
     ]
    }
   ],
   "source": [
    "print(f\"Categorical Features: {categoricalFeatures}\")\n",
    "print(f\"Numerical Features: {numericalFeatures}\")\n",
    "print(f\"Total number of Categorical Features: {len(categoricalFeatures)}\")\n",
    "print(f\"Total number of Numerical Features: {len(numericalFeatures)}\")"
   ]
  },
  {
   "attachments": {},
   "cell_type": "markdown",
   "metadata": {},
   "source": [
    "### Generating the DataFrame with the top 130 features we obtained during the generation train dataset and standardizing them."
   ]
  },
  {
   "cell_type": "code",
   "execution_count": 11,
   "metadata": {},
   "outputs": [
    {
     "name": "stdout",
     "output_type": "stream",
     "text": [
      "Standardized the Train Data!\n"
     ]
    }
   ],
   "source": [
    "top_features_130 = ['gill-attachment_cap-diameter_mean', 'gill-attachment_stem-width_min', 'gill-attachment_stem-width_median', 'gill-attachment_cap-diameter_median', 'stem-width', 'stem-color_stem-height_mean', 'gill-attachment_cap-diameter_min', 'gill-attachment_stem-width_mean', 'gill-attachment_stem-height_median', 'cap-diameter', 'cap-shape_cap-diameter_median', 'gill-attachment_stem-height_mean', 'stem-color_stem-width_median', 'stem-color_stem-height_median', 'stem-color_cap-diameter_median', 'ring-type_stem-width_mean', 'gill-attachment_cap-diameter_max', 'gill-attachment_stem-height_min', 'cap-surface_stem-height_max', 'ring-type_cap-diameter_mean', 'stem-color_stem-width_mean', 'cap-shape_stem-height_median', 'gill-color_cap-diameter_median', 'stem-height', 'stem-color_stem-height_max', 'season_stem-width_max', 'season_cap-diameter_mean', 'season_stem-height_max', 'gill-attachment_stem-width_max', 'cap-shape_stem-width_max', 'gill-spacing_stem-width_min', 'gill-spacing_stem-height_min', 'cap-color_stem-height_max', 'cap-shape_stem-height_mean', 'ring-type_cap-diameter_median', 'cap-shape_stem-height_max', 'gill-spacing_stem-width_max', 'gill-spacing_stem-width_median', 'season_cap-diameter_min', 'season_stem-width_mean', 'gill-color_stem-height_max', 'gill-color_stem-width_median', 'season_stem-height_mean', 'ring-type_stem-width_median', 'cap-shape_stem-width_mean', 'habitat_cap-diameter_mean', 'habitat_cap-diameter_min', 'cap-surface_stem-height_median', 'habitat_cap-diameter_median', 'habitat_stem-width_median', 'cap-shape_stem-width_median', 'cap-surface_stem-height_mean', 'gill-color_stem-width_max', 'habitat_stem-width_mean', 'cap-color_stem-width_mean', 'stem-color_stem-height_min', 'ring-type_stem-height_max', 'cap-color_stem-height_min', 'cap-color_stem-width_max', 'habitat_stem-height_median', 'gill-color_stem-height_mean', 'gill-spacing_stem-height_max', 'gill-spacing_cap-diameter_max', 'gill-spacing_stem-width_mean', 'cap-shape_cap-diameter_mean', 'cap-surface_stem-width_median', 'ring-type_stem-height_mean', 'cap-color_stem-height_median', 'habitat_stem-width_min', 'habitat_stem-height_mean', 'cap-surface_cap-diameter_max', 'stem-color_cap-diameter_mean', 'gill-spacing_cap-diameter_median', 'cap-shape_cap-diameter_min', 'habitat_stem-width_max', 'gill-color_stem-width_mean', 'cap-surface_cap-diameter_median', 'cap-shape_stem-height_min', 'ring-type_stem-height_median', 'gill-color_cap-diameter_mean', 'gill-color_stem-height_min', 'cap-surface_cap-diameter_mean', 'gill-spacing_cap-diameter_min', 'cap-color_cap-diameter_min', 'stem-color_cap-diameter_min', 'has-ring_stem-width_median', 'has-ring_cap-diameter_min', 'has-ring_stem-height_mean', 'has-ring_cap-diameter_mean', 'has-ring_stem-height_median', 'has-ring_cap-diameter_median', 'has-ring_stem-width_max', 'has-ring_cap-diameter_max', 'has-ring_stem-width_mean', 'has-ring_stem-height_max', 'cap-color_stem-height_mean', 'ring-type_cap-diameter_min', 'gill-spacing_stem-height_mean', 'gill-spacing_cap-diameter_mean', 'habitat_cap-diameter_max', 'cap-surface_stem-width_mean', 'ring-type_cap-diameter_max', 'gill-color_stem-width_min', 'ring-type_stem-height_min', 'cap-surface_cap-diameter_min', 'gill-color_stem-height_median', 'stem-color_stem-width_max', 'cap-color_stem-width_median', 'ring-type_stem-width_max', 'does-bruise-or-bleed_stem-height_max', 'does-bruise-or-bleed_stem-width_median', 'does-bruise-or-bleed_cap-diameter_mean', 'does-bruise-or-bleed_stem-width_max', 'does-bruise-or-bleed_cap-diameter_median', 'does-bruise-or-bleed_stem-height_median', 'does-bruise-or-bleed_stem-height_mean', 'does-bruise-or-bleed_cap-diameter_min', 'does-bruise-or-bleed_stem-height_min', 'does-bruise-or-bleed_stem-width_mean', 'does-bruise-or-bleed_cap-diameter_max', 'does-bruise-or-bleed_stem-width_min', 'cap-color_stem-width_min', 'gill-color_cap-diameter_min', 'stem-color_cap-diameter_max', 'cap-shape_stem-width_min', 'ring-type_stem-width_min', 'gill-spacing_stem-height_median', 'season_cap-diameter_median', 'gill-attachment_stem-height_max', 'habitat_stem-height_min']\n",
    "\n",
    "X_test_top = X_test_enc[top_features_130]\n",
    "    \n",
    "X_test_top_std = standardizeData(X_test_top)"
   ]
  },
  {
   "attachments": {},
   "cell_type": "markdown",
   "metadata": {},
   "source": [
    "## Performing Dimension Reduction using PCA and obtaining 60 features which tend to have performed really well in Training Phase."
   ]
  },
  {
   "cell_type": "code",
   "execution_count": 12,
   "metadata": {},
   "outputs": [],
   "source": [
    "# Setting the number of features as 60.\n",
    "X_test_pca = transformTrainData_PCA(X_test_top_std, components=60)"
   ]
  },
  {
   "cell_type": "code",
   "execution_count": 13,
   "metadata": {},
   "outputs": [],
   "source": [
    "y_test_np = y_test_raw.to_numpy()"
   ]
  },
  {
   "cell_type": "code",
   "execution_count": 14,
   "metadata": {},
   "outputs": [
    {
     "data": {
      "text/plain": [
       "(18321,)"
      ]
     },
     "execution_count": 14,
     "metadata": {},
     "output_type": "execute_result"
    }
   ],
   "source": [
    "y_test_np.shape"
   ]
  },
  {
   "attachments": {},
   "cell_type": "markdown",
   "metadata": {},
   "source": [
    "## Instantiating the Model class with an object."
   ]
  },
  {
   "cell_type": "code",
   "execution_count": 15,
   "metadata": {},
   "outputs": [],
   "source": [
    "model = Model()"
   ]
  },
  {
   "attachments": {},
   "cell_type": "markdown",
   "metadata": {},
   "source": [
    "# Training the Models!"
   ]
  },
  {
   "attachments": {},
   "cell_type": "markdown",
   "metadata": {},
   "source": [
    "## Reference systems and analysis."
   ]
  },
  {
   "attachments": {},
   "cell_type": "markdown",
   "metadata": {},
   "source": [
    "## Trivial System."
   ]
  },
  {
   "cell_type": "code",
   "execution_count": 16,
   "metadata": {},
   "outputs": [],
   "source": [
    "train_accuracy_trivial = model.trivial_system(Y_true = y_train_np)\n",
    "results[\"acc\"][\"trivial\"] = train_accuracy_trivial\n",
    "results[\"cer\"][\"trivial\"] = 100 - train_accuracy_trivial"
   ]
  },
  {
   "attachments": {},
   "cell_type": "markdown",
   "metadata": {},
   "source": [
    "## BaseLine System"
   ]
  },
  {
   "cell_type": "code",
   "execution_count": 17,
   "metadata": {},
   "outputs": [],
   "source": [
    "## Training the Baseline Model.\n",
    "results[\"acc\"][\"baseline\"], results[\"cer\"][\"baseline\"] = model.final_train(X_train, y_train, model_name=\"baseline\")"
   ]
  },
  {
   "attachments": {},
   "cell_type": "markdown",
   "metadata": {},
   "source": [
    "### Training the Non-probablistic Models (KNN and Perceptron), Support Vector Machine, Probabilistic Models (Gaussian Naive Bayes), Neural Network (MLP with 2 hidden layers)"
   ]
  },
  {
   "cell_type": "markdown",
   "metadata": {},
   "source": [
    "### Non-Probablistic Models"
   ]
  },
  {
   "cell_type": "code",
   "execution_count": 18,
   "metadata": {},
   "outputs": [],
   "source": [
    "## Training the Perceptron Model.\n",
    "results[\"acc\"][\"perceptron\"], results[\"cer\"][\"perceptron\"] = model.final_train(X_train, y_train, model_name=\"perceptron\")"
   ]
  },
  {
   "cell_type": "code",
   "execution_count": 19,
   "metadata": {},
   "outputs": [],
   "source": [
    "## Training the KNN Model.\n",
    "results[\"acc\"][\"KNN\"], results[\"cer\"][\"KNN\"] = model.final_train(X_train, y_train, model_name=\"KNN\")"
   ]
  },
  {
   "attachments": {},
   "cell_type": "markdown",
   "metadata": {},
   "source": [
    "### Support Vector Machine"
   ]
  },
  {
   "cell_type": "code",
   "execution_count": 20,
   "metadata": {},
   "outputs": [],
   "source": [
    "results[\"acc\"][\"SVM\"], results[\"cer\"][\"SVM\"] = model.final_train(X_train, y_train, model_name=\"SVM\")"
   ]
  },
  {
   "attachments": {},
   "cell_type": "markdown",
   "metadata": {},
   "source": [
    "### Probabilistic Model (Gaussian Naive Bayes)"
   ]
  },
  {
   "cell_type": "code",
   "execution_count": 21,
   "metadata": {},
   "outputs": [],
   "source": [
    "results[\"acc\"][\"NB\"], results[\"cer\"][\"NB\"] = model.final_train(X_train, y_train, model_name=\"BayesClf\")"
   ]
  },
  {
   "attachments": {},
   "cell_type": "markdown",
   "metadata": {},
   "source": [
    "### MLP"
   ]
  },
  {
   "cell_type": "code",
   "execution_count": 22,
   "metadata": {},
   "outputs": [],
   "source": [
    "results[\"acc\"][\"MLP\"], results[\"cer\"][\"MLP\"] = model.final_train(X_train, y_train, model_name=\"MLP\")"
   ]
  },
  {
   "cell_type": "code",
   "execution_count": 23,
   "metadata": {},
   "outputs": [
    {
     "data": {
      "text/plain": [
       "{'trivial': 50.801687763713076,\n",
       " 'baseline': 66.04781997187061,\n",
       " 'perceptron': 68.300515705579,\n",
       " 'KNN': 99.97421472105016,\n",
       " 'SVM': 99.28035630567275,\n",
       " 'NB': 74.37646507266761,\n",
       " 'MLP': 99.92733239568683}"
      ]
     },
     "execution_count": 23,
     "metadata": {},
     "output_type": "execute_result"
    }
   ],
   "source": [
    "results[\"acc\"]"
   ]
  }
 ],
 "metadata": {
  "kernelspec": {
   "display_name": "ml",
   "language": "python",
   "name": "python3"
  },
  "language_info": {
   "codemirror_mode": {
    "name": "ipython",
    "version": 3
   },
   "file_extension": ".py",
   "mimetype": "text/x-python",
   "name": "python",
   "nbconvert_exporter": "python",
   "pygments_lexer": "ipython3",
   "version": "3.10.8"
  },
  "orig_nbformat": 4
 },
 "nbformat": 4,
 "nbformat_minor": 2
}
